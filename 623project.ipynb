{
 "cells": [
  {
   "cell_type": "code",
   "execution_count": 170,
   "metadata": {},
   "outputs": [],
   "source": [
    "import json\n",
    "import itertools\n",
    "from collections import Counter\n",
    "import numpy as np\n",
    "from scipy.stats import zscore\n",
    "from sklearn.metrics.pairwise import manhattan_distances"
   ]
  },
  {
   "cell_type": "code",
   "execution_count": 171,
   "metadata": {},
   "outputs": [],
   "source": [
    "data = json.load(open(\"data2178datesfound.json\"))\n",
    "data = [d for d in data if d[\"author_string\"]]\n",
    "data = [d for d in data if len(d[\"text\"].split()) > 100]"
   ]
  },
  {
   "cell_type": "code",
   "execution_count": 172,
   "metadata": {},
   "outputs": [],
   "source": [
    "sourceAuthorPairs = list(set([d[\"source\"] + \" - \" + d[\"author_string\"] for d in data]))"
   ]
  },
  {
   "cell_type": "code",
   "execution_count": 173,
   "metadata": {},
   "outputs": [
    {
     "data": {
      "text/plain": [
       "1071"
      ]
     },
     "execution_count": 173,
     "metadata": {},
     "output_type": "execute_result"
    }
   ],
   "source": [
    "len(sourceAuthorPairs)"
   ]
  },
  {
   "cell_type": "code",
   "execution_count": 174,
   "metadata": {},
   "outputs": [],
   "source": [
    "sourceAuthorsWordCount = {\n",
    "    s:\n",
    "    sum([len(d[\"text\"].split())\n",
    "         for d in data\n",
    "         if d[\"source\"] == s.split(\" - \")[0] and\n",
    "         d[\"author_string\"] == s.split(\" - \")[1]])\n",
    "    for s in sourceAuthorPairs}"
   ]
  },
  {
   "cell_type": "code",
   "execution_count": 175,
   "metadata": {},
   "outputs": [
    {
     "data": {
      "text/plain": [
       "837"
      ]
     },
     "execution_count": 175,
     "metadata": {},
     "output_type": "execute_result"
    }
   ],
   "source": [
    "len([sawc for sawc in sourceAuthorsWordCount if sourceAuthorsWordCount[sawc] > 500])"
   ]
  },
  {
   "cell_type": "code",
   "execution_count": 176,
   "metadata": {},
   "outputs": [],
   "source": [
    "labelledData = {\n",
    "    s:\n",
    "    \" \".join([d[\"text\"]\n",
    "              for d in data\n",
    "              if d[\"source\"] == s.split(\" - \")[0] and\n",
    "              d[\"author_string\"] == s.split(\" - \")[1]])\n",
    "    for s in sourceAuthorPairs if sourceAuthorsWordCount[s] > 500}"
   ]
  },
  {
   "cell_type": "code",
   "execution_count": 177,
   "metadata": {},
   "outputs": [
    {
     "data": {
      "text/plain": [
       "837"
      ]
     },
     "execution_count": 177,
     "metadata": {},
     "output_type": "execute_result"
    }
   ],
   "source": [
    "len(labelledData)\n",
    "\n",
    "# labelledData[\"bostonglobe - adam liptak\"]"
   ]
  },
  {
   "cell_type": "code",
   "execution_count": 35,
   "metadata": {},
   "outputs": [],
   "source": [
    "n = 3 # n for n-gram\n",
    "vsm = [] # output vector space matrix\n",
    "columnHeaders = list(labelledData.keys()) # documents as columns of vsm\n",
    "rowHeaders = [] # terms/chargrams as rows of vsm \n",
    "\n",
    "for label in labelledData:\n",
    "    cid = columnHeaders.index(label) # column index of target output cell in vsm\n",
    "    text = labelledData[label] # text in a document\n",
    "    charngrams = [text[i:i+n] for i in range(len(text)-n+1)] # list all char n-grams in text\n",
    "    for cgram in charngrams:\n",
    "        if cgram not in rowHeaders: # new char ngram encountered, create new row\n",
    "            rowHeaders.append(cgram)\n",
    "            vsm.append([0]*len(columnHeaders))\n",
    "        rid = rowHeaders.index(cgram) # row index of target output cell in vsm\n",
    "        vsm[rid][cid] += 1 # increment count of target vsm cell\n",
    "            "
   ]
  },
  {
   "cell_type": "code",
   "execution_count": 178,
   "metadata": {},
   "outputs": [
    {
     "data": {
      "text/plain": [
       "30988"
      ]
     },
     "execution_count": 178,
     "metadata": {},
     "output_type": "execute_result"
    }
   ],
   "source": [
    "docTags = columnHeaders\n",
    "termTags = rowHeaders\n",
    "len(vsm)"
   ]
  },
  {
   "cell_type": "code",
   "execution_count": 179,
   "metadata": {},
   "outputs": [
    {
     "data": {
      "text/plain": [
       "(30988, 837)"
      ]
     },
     "execution_count": 179,
     "metadata": {},
     "output_type": "execute_result"
    }
   ],
   "source": [
    "countMatrix = np.array([np.array(vsmi) for vsmi in vsm]) # convert to ndarray\n",
    "countMatrix.shape"
   ]
  },
  {
   "cell_type": "code",
   "execution_count": 180,
   "metadata": {},
   "outputs": [],
   "source": [
    "# total count of each term t in entire corpus\n",
    "totalCounts = countMatrix.sum(axis=0)\n",
    "\n",
    "# select number of features based on 90th percentile of total counts\n",
    "nFeatures = np.argwhere(totalCounts > np.percentile(totalCounts, 90)).shape[0]\n",
    "\n",
    "# get index of termTags sorted in descending order of total count in corpus\n",
    "topChargramIndex = np.argsort(countMatrix.sum(axis=0))[::-1]\n",
    "\n",
    "# get index in termTags for top n features\n",
    "featureIndex = topChargramIndex[:nFeatures]\n",
    "\n",
    "# keep original counts for backup as their computation was expensive\n",
    "X = countMatrix.copy()\n",
    "\n",
    "# only keep top n features\n",
    "X = X[featureIndex, :]\n",
    "\n",
    "# convert counts to relative frequencies\n",
    "X = X/X.sum(axis=0, keepdims=True)\n",
    "\n",
    "# Transpose: resulting in -> documents on rows, terms on columns\n",
    "X = X.T\n",
    "\n",
    "# scale X by z score (x - mu)/sigma\n",
    "scaledX = zscore(X, axis=0, ddof=1)\n",
    "\n",
    "# row-normalize X with l1 norm\n",
    "row_sums = X.sum(axis=1)\n",
    "X = X / row_sums[:, np.newaxis]\n",
    "\n",
    "# compute pairwise delta as L1 dist. between normalized and scaled X\n",
    "delta = manhattan_distances(X)"
   ]
  },
  {
   "cell_type": "code",
   "execution_count": 181,
   "metadata": {},
   "outputs": [
    {
     "name": "stdout",
     "output_type": "stream",
     "text": [
      "{1: 706, 2: 55, 3: 7}\n",
      "131\n"
     ]
    }
   ],
   "source": [
    "authors = list(set([dt.split(\" - \")[1] for dt in docTags]))\n",
    "authorGroups = {a: [dt for dt in docTags if a == dt.split(\" - \")[1]] for a in authors}\n",
    "authorGroupIndex = {a: [docTags.index(dt) for dt in authorgroups[a]] for a in authors}\n",
    "print(dict(Counter(map(len, authorgroups.values()))))\n",
    "print(len([dt for dt in docTags if 1 < len(authorgroups[dt.split(\" - \")[1]])]))"
   ]
  },
  {
   "cell_type": "code",
   "execution_count": 182,
   "metadata": {},
   "outputs": [
    {
     "data": {
      "text/plain": [
       "{'aaron blake': {'mean delta': 0.45412822370650829,\n",
       "  'sources': ['washingtonpost', 'chicagotribune', 'bostonglobe']},\n",
       " 'abha bhattarai': {'mean delta': 0.46293856346935702,\n",
       "  'sources': ['washingtonpost', 'chicagotribune']},\n",
       " 'adam liptak': {'mean delta': 0.2947331523332441,\n",
       "  'sources': ['bostonglobe', 'nytimes']},\n",
       " 'adam liptak AND michael d. shear': {'mean delta': 0.20388265447492387,\n",
       "  'sources': ['nytimes', 'bostonglobe']},\n",
       " 'adam liptak AND peter baker': {'mean delta': 0.27329769927957237,\n",
       "  'sources': ['nytimes', 'bostonglobe']},\n",
       " 'alan feuer AND michael d. shear AND nicholas kulish': {'mean delta': 0.19727597682731426,\n",
       "  'sources': ['bostonglobe', 'nytimes']},\n",
       " 'alanna durkin richer': {'mean delta': 0.2676100628930817,\n",
       "  'sources': ['chicagotribune', 'bostonglobe']},\n",
       " 'alexandra zavis': {'mean delta': 0.40934684684684708,\n",
       "  'sources': ['latimes', 'chicagotribune']},\n",
       " 'alicia a. caldwell AND elliot spagat': {'mean delta': 0.21388939698798867,\n",
       "  'sources': ['bostonglobe', 'chicagotribune']},\n",
       " 'alicia a. caldwell AND matthew lee': {'mean delta': 0.15330440797333827,\n",
       "  'sources': ['chicagotribune', 'foxnews']},\n",
       " 'amy taxin': {'mean delta': 0.80429084309780252,\n",
       "  'sources': ['foxnews', 'bostonglobe', 'chicagotribune']},\n",
       " 'ann e. marimow AND robert barnes': {'mean delta': 0.27764056917194269,\n",
       "  'sources': ['bostonglobe', 'chicagotribune']},\n",
       " 'aya batrawy AND jeff karoub': {'mean delta': 0.13848551973090484,\n",
       "  'sources': ['bostonglobe', 'chicagotribune']},\n",
       " 'brady dennis AND jerry markon': {'mean delta': 0.42275208569368616,\n",
       "  'sources': ['bostonglobe', 'chicagotribune']},\n",
       " 'brian bennett': {'mean delta': 0.3681865434974273,\n",
       "  'sources': ['latimes', 'chicagotribune']},\n",
       " 'charles krauthammer': {'mean delta': 0.11184834123222721,\n",
       "  'sources': ['chicagotribune', 'washingtonpost']},\n",
       " 'cindy boren': {'mean delta': 0.67380952380952386,\n",
       "  'sources': ['washingtonpost', 'chicagotribune']},\n",
       " 'craig trudell AND david welch AND jeff green': {'mean delta': 0.55883333333333329,\n",
       "  'sources': ['chicagotribune', 'bostonglobe']},\n",
       " 'danielle paquette': {'mean delta': 0.70468389538349863,\n",
       "  'sources': ['chicagotribune', 'washingtonpost']},\n",
       " 'david lauter': {'mean delta': 0.44394146850346039,\n",
       "  'sources': ['latimes', 'chicagotribune']},\n",
       " 'david miliband': {'mean delta': 0.58602581219403682,\n",
       "  'sources': ['nytimes', 'cnn']},\n",
       " 'david nakamura': {'mean delta': 0.66288032454361023,\n",
       "  'sources': ['washingtonpost', 'chicagotribune']},\n",
       " 'david savage': {'mean delta': 0.29620429252782199,\n",
       "  'sources': ['chicagotribune', 'latimes']},\n",
       " 'del quentin wilber': {'mean delta': 0.2629894114750061,\n",
       "  'sources': ['latimes', 'chicagotribune']},\n",
       " 'des bieler': {'mean delta': 0.70461615030484026,\n",
       "  'sources': ['chicagotribune', 'washingtonpost']},\n",
       " 'gene johnson': {'mean delta': 0.41401866212723043,\n",
       "  'sources': ['chicagotribune', 'foxnews']},\n",
       " 'gene johnson AND sudhin thanawala': {'mean delta': 0.28045941923913459,\n",
       "  'sources': ['chicagotribune', 'foxnews']},\n",
       " 'greg sargent': {'mean delta': 0.36508177656721097,\n",
       "  'sources': ['chicagotribune', 'washingtonpost']},\n",
       " 'helene cooper AND michael d. shear': {'mean delta': 0.24156552424744704,\n",
       "  'sources': ['nytimes', 'bostonglobe']},\n",
       " 'henry olsen': {'mean delta': 0.37166761202495746,\n",
       "  'sources': ['chicagotribune', 'latimes']},\n",
       " 'jaweed kaleem': {'mean delta': 0.20280409416256609,\n",
       "  'sources': ['latimes', 'chicagotribune']},\n",
       " 'jaweed kaleem AND maura dolan': {'mean delta': 0.51840475777121919,\n",
       "  'sources': ['latimes', 'chicagotribune']},\n",
       " 'jeffrey gettleman': {'mean delta': 0.24578337736232481,\n",
       "  'sources': ['bostonglobe', 'nytimes']},\n",
       " 'jenna johnson': {'mean delta': 0.83111677282377905,\n",
       "  'sources': ['chicagotribune', 'washingtonpost']},\n",
       " 'jessica gresko': {'mean delta': 0.1076923076923077,\n",
       "  'sources': ['foxnews', 'chicagotribune']},\n",
       " 'jill colvin': {'mean delta': 0.56324904868594206,\n",
       "  'sources': ['bostonglobe', 'chicagotribune']},\n",
       " 'jill colvin AND matthew lee': {'mean delta': 0.16778425848774609,\n",
       "  'sources': ['bostonglobe', 'chicagotribune']},\n",
       " 'joseph tanfani': {'mean delta': 0.93391579143043013,\n",
       "  'sources': ['chicagotribune', 'latimes']},\n",
       " 'josh rogin': {'mean delta': 0.65909090909090917,\n",
       "  'sources': ['chicagotribune', 'washingtonpost']},\n",
       " 'kevin sieff': {'mean delta': 0.55335706836408116,\n",
       "  'sources': ['washingtonpost', 'chicagotribune']},\n",
       " 'kurtis lee': {'mean delta': 0.50555583437892082,\n",
       "  'sources': ['chicagotribune', 'latimes']},\n",
       " 'libby hill': {'mean delta': 0.78249336870026531,\n",
       "  'sources': ['latimes', 'chicagotribune']},\n",
       " 'lisa mascaro': {'mean delta': 0.61653272101033307,\n",
       "  'sources': ['chicagotribune', 'latimes']},\n",
       " 'maggie haberman AND peter baker': {'mean delta': 0.4896650784753363,\n",
       "  'sources': ['nytimes', 'bostonglobe']},\n",
       " 'maria sacchetti': {'mean delta': 0.6278789603352376,\n",
       "  'sources': ['chicagotribune', 'bostonglobe', 'washingtonpost']},\n",
       " 'mark sherman': {'mean delta': 0.38026681699170828,\n",
       "  'sources': ['foxnews', 'chicagotribune', 'bostonglobe']},\n",
       " 'matt zapotosky': {'mean delta': 0.229362834710052,\n",
       "  'sources': ['bostonglobe', 'chicagotribune', 'washingtonpost']},\n",
       " 'matt zapotosky AND robert barnes': {'mean delta': 0.46453900709219864,\n",
       "  'sources': ['chicagotribune', 'bostonglobe']},\n",
       " 'matthew lee': {'mean delta': 0.35740735715819633,\n",
       "  'sources': ['foxnews', 'chicagotribune', 'bostonglobe']},\n",
       " 'maura dolan': {'mean delta': 0.58006535947712412,\n",
       "  'sources': ['chicagotribune', 'latimes']},\n",
       " 'michael a. memoli': {'mean delta': 0.37991561971824994,\n",
       "  'sources': ['latimes', 'chicagotribune']},\n",
       " 'michael d. shear': {'mean delta': 0.48157267946933013,\n",
       "  'sources': ['nytimes', 'bostonglobe']},\n",
       " 'miriam jordan': {'mean delta': 0.41472644902266431,\n",
       "  'sources': ['bostonglobe', 'nytimes']},\n",
       " 'noah bierman': {'mean delta': 0.41539734991429256,\n",
       "  'sources': ['latimes', 'chicagotribune']},\n",
       " 'noah feldman': {'mean delta': 0.84834834834834849,\n",
       "  'sources': ['nytimes', 'chicagotribune']},\n",
       " 'peter bergen': {'mean delta': 0.69966524335456382,\n",
       "  'sources': ['washingtonpost', 'cnn']},\n",
       " 'philip rucker': {'mean delta': 0.46457422965239203,\n",
       "  'sources': ['chicagotribune', 'washingtonpost', 'bostonglobe']},\n",
       " 'robert barnes': {'mean delta': 0.3675209871048305,\n",
       "  'sources': ['chicagotribune', 'washingtonpost']},\n",
       " 'ron nixon': {'mean delta': 0.49661851306588167,\n",
       "  'sources': ['bostonglobe', 'nytimes']},\n",
       " 'steve chapman': {'mean delta': 0.60873983739837412,\n",
       "  'sources': ['latimes', 'chicagotribune']},\n",
       " 'tracy wilkinson': {'mean delta': 0.41639108554996407,\n",
       "  'sources': ['chicagotribune', 'latimes']},\n",
       " 'vivian salama': {'mean delta': 0.14941672871680334,\n",
       "  'sources': ['chicagotribune', 'bostonglobe']}}"
      ]
     },
     "execution_count": 182,
     "metadata": {},
     "output_type": "execute_result"
    }
   ],
   "source": [
    "result = {}\n",
    "for a in authorGroupIndex:\n",
    "    if len(authorGroupIndex[a]) > 1:\n",
    "        result[a] = {\n",
    "            \"sources\": [dt.split(\" - \")[0] for dt in docTags if dt.split(\" - \")[1] == a],\n",
    "            \"mean delta\": np.mean(list(map(lambda x: delta[x[0]][x[1]],\n",
    "                                           itertools.combinations(authorGroupIndex[a], 2))))\n",
    "        }\n",
    "result"
   ]
  },
  {
   "cell_type": "code",
   "execution_count": null,
   "metadata": {},
   "outputs": [],
   "source": []
  }
 ],
 "metadata": {
  "kernelspec": {
   "display_name": "lab",
   "language": "python",
   "name": "lab"
  },
  "language_info": {
   "codemirror_mode": {
    "name": "ipython",
    "version": 3
   },
   "file_extension": ".py",
   "mimetype": "text/x-python",
   "name": "python",
   "nbconvert_exporter": "python",
   "pygments_lexer": "ipython3",
   "version": "3.6.3"
  }
 },
 "nbformat": 4,
 "nbformat_minor": 2
}
